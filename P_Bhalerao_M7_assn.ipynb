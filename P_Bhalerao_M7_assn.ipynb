{
 "cells": [
  {
   "cell_type": "markdown",
   "id": "0936f318",
   "metadata": {},
   "source": [
    "# Introduction "
   ]
  },
  {
   "cell_type": "markdown",
   "id": "8e04600d",
   "metadata": {},
   "source": [
    "The goal of this project is to  predict the customer purchase decisions regarding an additional insurance product. \n",
    "**Key Points:**\n",
    "\n",
    "1. **Problem Significance**: Predicting customer purchase decisions enables insurance companies to tailor their marketing strategies, optimize resource allocation, and enhance customer satisfaction.\n",
    "\n",
    "2. **Data Exploration**: I begin by loading and exploring the dataset to gain insights into customer characteristics and historical purchase patterns.\n",
    "\n",
    "3. **Class Imbalance**: I observe a class imbalance issue in the 'TARGET' variable, which necessitates specialized handling to avoid model bias.\n",
    "\n",
    "4. **Data Preparation**: I preprocess the data by converting variables into suitable formats, removing uninformative features, and applying feature scaling where necessary.\n",
    "\n",
    "5. **Model Selection**: This project involves creating and evaluating multiple logistic regression models with different feature sets to determine the most effective approach for predicting customer purchase decisions.\n"
   ]
  },
  {
   "cell_type": "code",
   "execution_count": 1,
   "id": "fafd183e",
   "metadata": {},
   "outputs": [
    {
     "data": {
      "text/html": [
       "<div>\n",
       "<style scoped>\n",
       "    .dataframe tbody tr th:only-of-type {\n",
       "        vertical-align: middle;\n",
       "    }\n",
       "\n",
       "    .dataframe tbody tr th {\n",
       "        vertical-align: top;\n",
       "    }\n",
       "\n",
       "    .dataframe thead th {\n",
       "        text-align: right;\n",
       "    }\n",
       "</style>\n",
       "<table border=\"1\" class=\"dataframe\">\n",
       "  <thead>\n",
       "    <tr style=\"text-align: right;\">\n",
       "      <th></th>\n",
       "      <th>TARGET</th>\n",
       "      <th>loyalty</th>\n",
       "      <th>ID</th>\n",
       "      <th>age</th>\n",
       "      <th>city</th>\n",
       "      <th>LOR</th>\n",
       "      <th>prod_A</th>\n",
       "      <th>type_A</th>\n",
       "      <th>type_B</th>\n",
       "      <th>prod_B</th>\n",
       "      <th>turnover_A</th>\n",
       "      <th>turnover_B</th>\n",
       "      <th>contract</th>\n",
       "      <th>age_P</th>\n",
       "      <th>lor_M</th>\n",
       "    </tr>\n",
       "  </thead>\n",
       "  <tbody>\n",
       "    <tr>\n",
       "      <th>0</th>\n",
       "      <td>Y</td>\n",
       "      <td>99</td>\n",
       "      <td>77</td>\n",
       "      <td>66</td>\n",
       "      <td>2</td>\n",
       "      <td>0</td>\n",
       "      <td>0</td>\n",
       "      <td>0</td>\n",
       "      <td>0</td>\n",
       "      <td>0</td>\n",
       "      <td>333.561114</td>\n",
       "      <td>264.721010</td>\n",
       "      <td>2</td>\n",
       "      <td>66</td>\n",
       "      <td>3</td>\n",
       "    </tr>\n",
       "    <tr>\n",
       "      <th>1</th>\n",
       "      <td>Y</td>\n",
       "      <td>1</td>\n",
       "      <td>159</td>\n",
       "      <td>45</td>\n",
       "      <td>2</td>\n",
       "      <td>3</td>\n",
       "      <td>1</td>\n",
       "      <td>3</td>\n",
       "      <td>3</td>\n",
       "      <td>1</td>\n",
       "      <td>394.735699</td>\n",
       "      <td>284.904978</td>\n",
       "      <td>2</td>\n",
       "      <td>45</td>\n",
       "      <td>39</td>\n",
       "    </tr>\n",
       "    <tr>\n",
       "      <th>2</th>\n",
       "      <td>Y</td>\n",
       "      <td>1</td>\n",
       "      <td>220</td>\n",
       "      <td>42</td>\n",
       "      <td>2</td>\n",
       "      <td>2</td>\n",
       "      <td>1</td>\n",
       "      <td>3</td>\n",
       "      <td>6</td>\n",
       "      <td>1</td>\n",
       "      <td>342.180990</td>\n",
       "      <td>1175.589721</td>\n",
       "      <td>2</td>\n",
       "      <td>42</td>\n",
       "      <td>27</td>\n",
       "    </tr>\n",
       "    <tr>\n",
       "      <th>3</th>\n",
       "      <td>Y</td>\n",
       "      <td>99</td>\n",
       "      <td>303</td>\n",
       "      <td>31</td>\n",
       "      <td>2</td>\n",
       "      <td>0</td>\n",
       "      <td>0</td>\n",
       "      <td>0</td>\n",
       "      <td>0</td>\n",
       "      <td>0</td>\n",
       "      <td>453.757916</td>\n",
       "      <td>242.341754</td>\n",
       "      <td>2</td>\n",
       "      <td>31</td>\n",
       "      <td>3</td>\n",
       "    </tr>\n",
       "    <tr>\n",
       "      <th>4</th>\n",
       "      <td>Y</td>\n",
       "      <td>99</td>\n",
       "      <td>306</td>\n",
       "      <td>62</td>\n",
       "      <td>2</td>\n",
       "      <td>0</td>\n",
       "      <td>0</td>\n",
       "      <td>0</td>\n",
       "      <td>0</td>\n",
       "      <td>0</td>\n",
       "      <td>384.577469</td>\n",
       "      <td>287.008370</td>\n",
       "      <td>2</td>\n",
       "      <td>62</td>\n",
       "      <td>3</td>\n",
       "    </tr>\n",
       "    <tr>\n",
       "      <th>5</th>\n",
       "      <td>Y</td>\n",
       "      <td>3</td>\n",
       "      <td>340</td>\n",
       "      <td>24</td>\n",
       "      <td>2</td>\n",
       "      <td>1</td>\n",
       "      <td>1</td>\n",
       "      <td>3</td>\n",
       "      <td>3</td>\n",
       "      <td>1</td>\n",
       "      <td>460.442339</td>\n",
       "      <td>247.467516</td>\n",
       "      <td>2</td>\n",
       "      <td>24</td>\n",
       "      <td>15</td>\n",
       "    </tr>\n",
       "    <tr>\n",
       "      <th>6</th>\n",
       "      <td>Y</td>\n",
       "      <td>99</td>\n",
       "      <td>353</td>\n",
       "      <td>57</td>\n",
       "      <td>2</td>\n",
       "      <td>0</td>\n",
       "      <td>0</td>\n",
       "      <td>0</td>\n",
       "      <td>0</td>\n",
       "      <td>0</td>\n",
       "      <td>494.463651</td>\n",
       "      <td>215.976127</td>\n",
       "      <td>2</td>\n",
       "      <td>57</td>\n",
       "      <td>3</td>\n",
       "    </tr>\n",
       "    <tr>\n",
       "      <th>7</th>\n",
       "      <td>Y</td>\n",
       "      <td>99</td>\n",
       "      <td>371</td>\n",
       "      <td>32</td>\n",
       "      <td>2</td>\n",
       "      <td>0</td>\n",
       "      <td>0</td>\n",
       "      <td>0</td>\n",
       "      <td>0</td>\n",
       "      <td>0</td>\n",
       "      <td>472.651570</td>\n",
       "      <td>246.208737</td>\n",
       "      <td>2</td>\n",
       "      <td>32</td>\n",
       "      <td>3</td>\n",
       "    </tr>\n",
       "    <tr>\n",
       "      <th>8</th>\n",
       "      <td>Y</td>\n",
       "      <td>99</td>\n",
       "      <td>530</td>\n",
       "      <td>28</td>\n",
       "      <td>2</td>\n",
       "      <td>0</td>\n",
       "      <td>0</td>\n",
       "      <td>0</td>\n",
       "      <td>0</td>\n",
       "      <td>0</td>\n",
       "      <td>451.717690</td>\n",
       "      <td>252.719435</td>\n",
       "      <td>2</td>\n",
       "      <td>28</td>\n",
       "      <td>3</td>\n",
       "    </tr>\n",
       "    <tr>\n",
       "      <th>9</th>\n",
       "      <td>Y</td>\n",
       "      <td>99</td>\n",
       "      <td>549</td>\n",
       "      <td>30</td>\n",
       "      <td>2</td>\n",
       "      <td>0</td>\n",
       "      <td>0</td>\n",
       "      <td>0</td>\n",
       "      <td>0</td>\n",
       "      <td>0</td>\n",
       "      <td>349.287327</td>\n",
       "      <td>263.293277</td>\n",
       "      <td>2</td>\n",
       "      <td>30</td>\n",
       "      <td>3</td>\n",
       "    </tr>\n",
       "  </tbody>\n",
       "</table>\n",
       "</div>"
      ],
      "text/plain": [
       "  TARGET  loyalty   ID  age  city  LOR  prod_A  type_A  type_B  prod_B  \\\n",
       "0      Y       99   77   66     2    0       0       0       0       0   \n",
       "1      Y        1  159   45     2    3       1       3       3       1   \n",
       "2      Y        1  220   42     2    2       1       3       6       1   \n",
       "3      Y       99  303   31     2    0       0       0       0       0   \n",
       "4      Y       99  306   62     2    0       0       0       0       0   \n",
       "5      Y        3  340   24     2    1       1       3       3       1   \n",
       "6      Y       99  353   57     2    0       0       0       0       0   \n",
       "7      Y       99  371   32     2    0       0       0       0       0   \n",
       "8      Y       99  530   28     2    0       0       0       0       0   \n",
       "9      Y       99  549   30     2    0       0       0       0       0   \n",
       "\n",
       "   turnover_A   turnover_B  contract  age_P  lor_M  \n",
       "0  333.561114   264.721010         2     66      3  \n",
       "1  394.735699   284.904978         2     45     39  \n",
       "2  342.180990  1175.589721         2     42     27  \n",
       "3  453.757916   242.341754         2     31      3  \n",
       "4  384.577469   287.008370         2     62      3  \n",
       "5  460.442339   247.467516         2     24     15  \n",
       "6  494.463651   215.976127         2     57      3  \n",
       "7  472.651570   246.208737         2     32      3  \n",
       "8  451.717690   252.719435         2     28      3  \n",
       "9  349.287327   263.293277         2     30      3  "
      ]
     },
     "execution_count": 1,
     "metadata": {},
     "output_type": "execute_result"
    }
   ],
   "source": [
    "#Load the dataset\n",
    "import pandas as pd\n",
    "\n",
    "df = pd.read_csv(\"https://raw.githubusercontent.com/Pratibhabhalerao080/DAV-6150/main/M7_Data.csv\")\n",
    "df.head(10)"
   ]
  },
  {
   "cell_type": "markdown",
   "id": "3f649684",
   "metadata": {},
   "source": [
    "# Exploratory Data Analysis "
   ]
  },
  {
   "cell_type": "code",
   "execution_count": 2,
   "id": "96b2180b",
   "metadata": {},
   "outputs": [
    {
     "name": "stdout",
     "output_type": "stream",
     "text": [
      "<class 'pandas.core.frame.DataFrame'>\n",
      "RangeIndex: 14016 entries, 0 to 14015\n",
      "Data columns (total 15 columns):\n",
      " #   Column      Non-Null Count  Dtype  \n",
      "---  ------      --------------  -----  \n",
      " 0   TARGET      14016 non-null  object \n",
      " 1   loyalty     14016 non-null  int64  \n",
      " 2   ID          14016 non-null  int64  \n",
      " 3   age         14016 non-null  int64  \n",
      " 4   city        14016 non-null  int64  \n",
      " 5   LOR         14016 non-null  int64  \n",
      " 6   prod_A      14016 non-null  int64  \n",
      " 7   type_A      14016 non-null  int64  \n",
      " 8   type_B      14016 non-null  int64  \n",
      " 9   prod_B      14016 non-null  int64  \n",
      " 10  turnover_A  14016 non-null  float64\n",
      " 11  turnover_B  14016 non-null  float64\n",
      " 12  contract    14016 non-null  int64  \n",
      " 13  age_P       14016 non-null  int64  \n",
      " 14  lor_M       14016 non-null  int64  \n",
      "dtypes: float64(2), int64(12), object(1)\n",
      "memory usage: 1.6+ MB\n"
     ]
    }
   ],
   "source": [
    "df.info()"
   ]
  },
  {
   "cell_type": "code",
   "execution_count": 3,
   "id": "7b79362a",
   "metadata": {},
   "outputs": [
    {
     "data": {
      "text/html": [
       "<div>\n",
       "<style scoped>\n",
       "    .dataframe tbody tr th:only-of-type {\n",
       "        vertical-align: middle;\n",
       "    }\n",
       "\n",
       "    .dataframe tbody tr th {\n",
       "        vertical-align: top;\n",
       "    }\n",
       "\n",
       "    .dataframe thead th {\n",
       "        text-align: right;\n",
       "    }\n",
       "</style>\n",
       "<table border=\"1\" class=\"dataframe\">\n",
       "  <thead>\n",
       "    <tr style=\"text-align: right;\">\n",
       "      <th></th>\n",
       "      <th>loyalty</th>\n",
       "      <th>ID</th>\n",
       "      <th>age</th>\n",
       "      <th>city</th>\n",
       "      <th>LOR</th>\n",
       "      <th>prod_A</th>\n",
       "      <th>type_A</th>\n",
       "      <th>type_B</th>\n",
       "      <th>prod_B</th>\n",
       "      <th>turnover_A</th>\n",
       "      <th>turnover_B</th>\n",
       "      <th>contract</th>\n",
       "      <th>age_P</th>\n",
       "      <th>lor_M</th>\n",
       "    </tr>\n",
       "  </thead>\n",
       "  <tbody>\n",
       "    <tr>\n",
       "      <th>count</th>\n",
       "      <td>14016.000000</td>\n",
       "      <td>14016.000000</td>\n",
       "      <td>14016.000000</td>\n",
       "      <td>14016.000000</td>\n",
       "      <td>14016.000000</td>\n",
       "      <td>14016.000000</td>\n",
       "      <td>14016.000000</td>\n",
       "      <td>14016.000000</td>\n",
       "      <td>14016.000000</td>\n",
       "      <td>14016.000000</td>\n",
       "      <td>14016.000000</td>\n",
       "      <td>14016.0</td>\n",
       "      <td>14016.000000</td>\n",
       "      <td>14016.000000</td>\n",
       "    </tr>\n",
       "    <tr>\n",
       "      <th>mean</th>\n",
       "      <td>50.381778</td>\n",
       "      <td>37672.440068</td>\n",
       "      <td>35.882920</td>\n",
       "      <td>-710.950128</td>\n",
       "      <td>0.926299</td>\n",
       "      <td>0.533818</td>\n",
       "      <td>1.607877</td>\n",
       "      <td>1.918878</td>\n",
       "      <td>0.599458</td>\n",
       "      <td>379.161320</td>\n",
       "      <td>328.628207</td>\n",
       "      <td>2.0</td>\n",
       "      <td>35.882920</td>\n",
       "      <td>14.115582</td>\n",
       "    </tr>\n",
       "    <tr>\n",
       "      <th>std</th>\n",
       "      <td>48.471790</td>\n",
       "      <td>44855.639209</td>\n",
       "      <td>12.974634</td>\n",
       "      <td>26702.329184</td>\n",
       "      <td>0.965212</td>\n",
       "      <td>0.498873</td>\n",
       "      <td>1.508991</td>\n",
       "      <td>1.686038</td>\n",
       "      <td>0.490026</td>\n",
       "      <td>92.612207</td>\n",
       "      <td>475.616525</td>\n",
       "      <td>0.0</td>\n",
       "      <td>12.974634</td>\n",
       "      <td>11.582550</td>\n",
       "    </tr>\n",
       "    <tr>\n",
       "      <th>min</th>\n",
       "      <td>0.000000</td>\n",
       "      <td>1.000000</td>\n",
       "      <td>5.000000</td>\n",
       "      <td>-999999.000000</td>\n",
       "      <td>0.000000</td>\n",
       "      <td>0.000000</td>\n",
       "      <td>0.000000</td>\n",
       "      <td>0.000000</td>\n",
       "      <td>0.000000</td>\n",
       "      <td>300.095909</td>\n",
       "      <td>191.962852</td>\n",
       "      <td>2.0</td>\n",
       "      <td>5.000000</td>\n",
       "      <td>3.000000</td>\n",
       "    </tr>\n",
       "    <tr>\n",
       "      <th>25%</th>\n",
       "      <td>2.000000</td>\n",
       "      <td>6741.500000</td>\n",
       "      <td>25.000000</td>\n",
       "      <td>2.000000</td>\n",
       "      <td>0.000000</td>\n",
       "      <td>0.000000</td>\n",
       "      <td>0.000000</td>\n",
       "      <td>0.000000</td>\n",
       "      <td>0.000000</td>\n",
       "      <td>334.919412</td>\n",
       "      <td>219.406925</td>\n",
       "      <td>2.0</td>\n",
       "      <td>25.000000</td>\n",
       "      <td>3.000000</td>\n",
       "    </tr>\n",
       "    <tr>\n",
       "      <th>50%</th>\n",
       "      <td>3.000000</td>\n",
       "      <td>13514.500000</td>\n",
       "      <td>33.000000</td>\n",
       "      <td>2.000000</td>\n",
       "      <td>1.000000</td>\n",
       "      <td>1.000000</td>\n",
       "      <td>3.000000</td>\n",
       "      <td>3.000000</td>\n",
       "      <td>1.000000</td>\n",
       "      <td>367.891493</td>\n",
       "      <td>237.656757</td>\n",
       "      <td>2.0</td>\n",
       "      <td>33.000000</td>\n",
       "      <td>15.000000</td>\n",
       "    </tr>\n",
       "    <tr>\n",
       "      <th>75%</th>\n",
       "      <td>99.000000</td>\n",
       "      <td>62738.000000</td>\n",
       "      <td>43.000000</td>\n",
       "      <td>2.000000</td>\n",
       "      <td>1.000000</td>\n",
       "      <td>1.000000</td>\n",
       "      <td>3.000000</td>\n",
       "      <td>3.000000</td>\n",
       "      <td>1.000000</td>\n",
       "      <td>399.744924</td>\n",
       "      <td>264.131538</td>\n",
       "      <td>2.0</td>\n",
       "      <td>43.000000</td>\n",
       "      <td>15.000000</td>\n",
       "    </tr>\n",
       "    <tr>\n",
       "      <th>max</th>\n",
       "      <td>99.000000</td>\n",
       "      <td>151811.000000</td>\n",
       "      <td>102.000000</td>\n",
       "      <td>235.000000</td>\n",
       "      <td>6.000000</td>\n",
       "      <td>1.000000</td>\n",
       "      <td>6.000000</td>\n",
       "      <td>9.000000</td>\n",
       "      <td>1.000000</td>\n",
       "      <td>5568.784139</td>\n",
       "      <td>12249.084770</td>\n",
       "      <td>2.0</td>\n",
       "      <td>102.000000</td>\n",
       "      <td>75.000000</td>\n",
       "    </tr>\n",
       "  </tbody>\n",
       "</table>\n",
       "</div>"
      ],
      "text/plain": [
       "            loyalty             ID           age           city           LOR  \\\n",
       "count  14016.000000   14016.000000  14016.000000   14016.000000  14016.000000   \n",
       "mean      50.381778   37672.440068     35.882920    -710.950128      0.926299   \n",
       "std       48.471790   44855.639209     12.974634   26702.329184      0.965212   \n",
       "min        0.000000       1.000000      5.000000 -999999.000000      0.000000   \n",
       "25%        2.000000    6741.500000     25.000000       2.000000      0.000000   \n",
       "50%        3.000000   13514.500000     33.000000       2.000000      1.000000   \n",
       "75%       99.000000   62738.000000     43.000000       2.000000      1.000000   \n",
       "max       99.000000  151811.000000    102.000000     235.000000      6.000000   \n",
       "\n",
       "             prod_A        type_A        type_B        prod_B    turnover_A  \\\n",
       "count  14016.000000  14016.000000  14016.000000  14016.000000  14016.000000   \n",
       "mean       0.533818      1.607877      1.918878      0.599458    379.161320   \n",
       "std        0.498873      1.508991      1.686038      0.490026     92.612207   \n",
       "min        0.000000      0.000000      0.000000      0.000000    300.095909   \n",
       "25%        0.000000      0.000000      0.000000      0.000000    334.919412   \n",
       "50%        1.000000      3.000000      3.000000      1.000000    367.891493   \n",
       "75%        1.000000      3.000000      3.000000      1.000000    399.744924   \n",
       "max        1.000000      6.000000      9.000000      1.000000   5568.784139   \n",
       "\n",
       "         turnover_B  contract         age_P         lor_M  \n",
       "count  14016.000000   14016.0  14016.000000  14016.000000  \n",
       "mean     328.628207       2.0     35.882920     14.115582  \n",
       "std      475.616525       0.0     12.974634     11.582550  \n",
       "min      191.962852       2.0      5.000000      3.000000  \n",
       "25%      219.406925       2.0     25.000000      3.000000  \n",
       "50%      237.656757       2.0     33.000000     15.000000  \n",
       "75%      264.131538       2.0     43.000000     15.000000  \n",
       "max    12249.084770       2.0    102.000000     75.000000  "
      ]
     },
     "execution_count": 3,
     "metadata": {},
     "output_type": "execute_result"
    }
   ],
   "source": [
    "df.describe()"
   ]
  },
  {
   "cell_type": "code",
   "execution_count": 4,
   "id": "cae606a7",
   "metadata": {},
   "outputs": [
    {
     "data": {
      "text/plain": [
       "TARGET        0\n",
       "loyalty       0\n",
       "ID            0\n",
       "age           0\n",
       "city          0\n",
       "LOR           0\n",
       "prod_A        0\n",
       "type_A        0\n",
       "type_B        0\n",
       "prod_B        0\n",
       "turnover_A    0\n",
       "turnover_B    0\n",
       "contract      0\n",
       "age_P         0\n",
       "lor_M         0\n",
       "dtype: int64"
      ]
     },
     "execution_count": 4,
     "metadata": {},
     "output_type": "execute_result"
    }
   ],
   "source": [
    "df.isnull().sum()"
   ]
  },
  {
   "cell_type": "code",
   "execution_count": 5,
   "id": "4e412149",
   "metadata": {},
   "outputs": [
    {
     "name": "stderr",
     "output_type": "stream",
     "text": [
      "C:\\Users\\Pratibha\\anaconda3\\lib\\site-packages\\seaborn\\_decorators.py:36: FutureWarning: Pass the following variable as a keyword arg: x. From version 0.12, the only valid positional argument will be `data`, and passing other arguments without an explicit keyword will result in an error or misinterpretation.\n",
      "  warnings.warn(\n"
     ]
    },
    {
     "data": {
      "image/png": "[encoded data removed]",
      "text/plain": [
       "<Figure size 432x288 with 1 Axes>"
      ]
     },
     "metadata": {
      "needs_background": "light"
     },
     "output_type": "display_data"
    }
   ],
   "source": [
    "import matplotlib.pyplot as plt\n",
    "import seaborn as sns\n",
    "\n",
    "#visualize the distribution of the target variable\n",
    "\n",
    "sns.countplot(df['TARGET'])\n",
    "plt.title('Distribution of Target')\n",
    "plt.show()"
   ]
  },
  {
   "cell_type": "code",
   "execution_count": 6,
   "id": "0047c58c",
   "metadata": {},
   "outputs": [
    {
     "name": "stdout",
     "output_type": "stream",
     "text": [
      "N    8000\n",
      "Y    6016\n",
      "Name: TARGET, dtype: int64\n"
     ]
    }
   ],
   "source": [
    "# Calculate the class distribution of the 'TARGET' variable\n",
    "class_distribution = df['TARGET'].value_counts()\n",
    "\n",
    "# Display the class distribution\n",
    "print(class_distribution)\n"
   ]
  },
  {
   "cell_type": "markdown",
   "id": "149e614e",
   "metadata": {},
   "source": [
    "Based on the class distribution, there is a clear class imbalance in the 'TARGET' variable. There are 8,000 instances in the \"No\" class (0) and 6,016 instances in the \"Yes\" class (1). The \"No\" class significantly outnumbers the \"Yes\" class, which is a common scenario in many binary classification problems."
   ]
  },
  {
   "cell_type": "code",
   "execution_count": 7,
   "id": "7366434b",
   "metadata": {},
   "outputs": [
    {
     "data": {
      "image/png": "[encoded data removed]",
      "text/plain": [
       "<Figure size 576x432 with 1 Axes>"
      ]
     },
     "metadata": {
      "needs_background": "light"
     },
     "output_type": "display_data"
    }
   ],
   "source": [
    "# Age distribution for customers who purchased and didn't purchase an additional insurance product\n",
    "plt.figure(figsize=(8, 6))\n",
    "sns.kdeplot(df[df['TARGET'] == 'Y']['age'], label='Purchased', shade=True)\n",
    "sns.kdeplot(df[df['TARGET'] == 'N']['age'], label='Not Purchased', shade=True)\n",
    "plt.xlabel(\"Age\")\n",
    "plt.ylabel(\"Density\")\n",
    "plt.title(\"Age Distribution by TARGET\")\n",
    "plt.legend()\n",
    "plt.show()\n"
   ]
  },
  {
   "cell_type": "code",
   "execution_count": 8,
   "id": "86e42aea",
   "metadata": {},
   "outputs": [
    {
     "name": "stderr",
     "output_type": "stream",
     "text": [
      "C:\\Users\\Pratibha\\anaconda3\\lib\\site-packages\\seaborn\\_decorators.py:36: FutureWarning: Pass the following variable as a keyword arg: x. From version 0.12, the only valid positional argument will be `data`, and passing other arguments without an explicit keyword will result in an error or misinterpretation.\n",
      "  warnings.warn(\n"
     ]
    },
    {
     "data": {
      "image/png": "[encoded data removed]",
      "text/plain": [
       "<Figure size 432x288 with 1 Axes>"
      ]
     },
     "metadata": {
      "needs_background": "light"
     },
     "output_type": "display_data"
    }
   ],
   "source": [
    "# Relationship between 'loyalty' and 'TARGET' (excluding unclassified loyalty)\n",
    "data_filtered = df[df['loyalty'] != 99]\n",
    "sns.countplot(data_filtered['loyalty'], hue=data_filtered['TARGET'])\n",
    "plt.title(\"Loyalty vs. TARGET (Excluding Unclassified)\")\n",
    "plt.show()\n"
   ]
  },
  {
   "cell_type": "code",
   "execution_count": 9,
   "id": "22157c55",
   "metadata": {},
   "outputs": [
    {
     "name": "stdout",
     "output_type": "stream",
     "text": [
      "TARGET        N      Y\n",
      "loyalty               \n",
      "0          56.0    NaN\n",
      "1        1558.0  922.0\n",
      "2         943.0  482.0\n",
      "3        2333.0  736.0\n"
     ]
    }
   ],
   "source": [
    "# Count the occurrences of each combination of 'loyalty' and 'TARGET' (excluding unclassified loyalty)\n",
    "loyalty_target_counts = df[df['loyalty'] != 99].groupby(['loyalty', 'TARGET']).size().unstack()\n",
    "\n",
    "# Display the counts\n",
    "print(loyalty_target_counts)\n"
   ]
  },
  {
   "cell_type": "markdown",
   "id": "813a9b03",
   "metadata": {},
   "source": [
    "- For Loyalty Level 0, all customers have a 'N' (no purchase) value for the 'TARGET' variable. There are no 'Y' (purchase) cases in this loyalty level.\n",
    "\n",
    "- For Loyalty Level 1, there are 1,558 'N' (no purchase) cases and 922 'Y' (purchase) cases.\n",
    "\n",
    "- For Loyalty Level 2, there are 943 'N' (no purchase) cases and 482 'Y' (purchase) cases.\n",
    "\n",
    "- For Loyalty Level 3, there are 2,333 'N' (no purchase) cases and 736 'Y' (purchase) cases.\n",
    "\n"
   ]
  },
  {
   "cell_type": "code",
   "execution_count": 10,
   "id": "90d7e2cd",
   "metadata": {},
   "outputs": [
    {
     "data": {
      "image/png": "[encoded data removed]",
      "text/plain": [
       "<Figure size 720x432 with 1 Axes>"
      ]
     },
     "metadata": {
      "needs_background": "light"
     },
     "output_type": "display_data"
    },
    {
     "data": {
      "image/png": "[encoded data removed]",
      "text/plain": [
       "<Figure size 720x432 with 1 Axes>"
      ]
     },
     "metadata": {
      "needs_background": "light"
     },
     "output_type": "display_data"
    }
   ],
   "source": [
    "# Relationship between 'Turnover_A' and 'TARGET'\n",
    "plt.figure(figsize=(10, 6))\n",
    "sns.boxplot(x='TARGET', y='turnover_A', data=df)\n",
    "plt.title(\"Turnover_A vs. TARGET\")\n",
    "plt.show()\n",
    "\n",
    "# Relationship between 'Turnover_B' and 'TARGET'\n",
    "plt.figure(figsize=(10, 6))\n",
    "sns.boxplot(x='TARGET', y='turnover_B', data=df)\n",
    "plt.title(\"Turnover_B vs. TARGET\")\n",
    "plt.show()\n"
   ]
  },
  {
   "cell_type": "code",
   "execution_count": 11,
   "id": "66990678",
   "metadata": {},
   "outputs": [
    {
     "data": {
      "text/html": [
       "<div>\n",
       "<style scoped>\n",
       "    .dataframe tbody tr th:only-of-type {\n",
       "        vertical-align: middle;\n",
       "    }\n",
       "\n",
       "    .dataframe tbody tr th {\n",
       "        vertical-align: top;\n",
       "    }\n",
       "\n",
       "    .dataframe thead th {\n",
       "        text-align: right;\n",
       "    }\n",
       "</style>\n",
       "<table border=\"1\" class=\"dataframe\">\n",
       "  <thead>\n",
       "    <tr style=\"text-align: right;\">\n",
       "      <th></th>\n",
       "      <th>turnover_A</th>\n",
       "      <th>turnover_B</th>\n",
       "    </tr>\n",
       "  </thead>\n",
       "  <tbody>\n",
       "    <tr>\n",
       "      <th>count</th>\n",
       "      <td>14016.000000</td>\n",
       "      <td>14016.000000</td>\n",
       "    </tr>\n",
       "    <tr>\n",
       "      <th>mean</th>\n",
       "      <td>379.161320</td>\n",
       "      <td>328.628207</td>\n",
       "    </tr>\n",
       "    <tr>\n",
       "      <th>std</th>\n",
       "      <td>92.612207</td>\n",
       "      <td>475.616525</td>\n",
       "    </tr>\n",
       "    <tr>\n",
       "      <th>min</th>\n",
       "      <td>300.095909</td>\n",
       "      <td>191.962852</td>\n",
       "    </tr>\n",
       "    <tr>\n",
       "      <th>25%</th>\n",
       "      <td>334.919412</td>\n",
       "      <td>219.406925</td>\n",
       "    </tr>\n",
       "    <tr>\n",
       "      <th>50%</th>\n",
       "      <td>367.891493</td>\n",
       "      <td>237.656757</td>\n",
       "    </tr>\n",
       "    <tr>\n",
       "      <th>75%</th>\n",
       "      <td>399.744924</td>\n",
       "      <td>264.131538</td>\n",
       "    </tr>\n",
       "    <tr>\n",
       "      <th>max</th>\n",
       "      <td>5568.784139</td>\n",
       "      <td>12249.084770</td>\n",
       "    </tr>\n",
       "  </tbody>\n",
       "</table>\n",
       "</div>"
      ],
      "text/plain": [
       "         turnover_A    turnover_B\n",
       "count  14016.000000  14016.000000\n",
       "mean     379.161320    328.628207\n",
       "std       92.612207    475.616525\n",
       "min      300.095909    191.962852\n",
       "25%      334.919412    219.406925\n",
       "50%      367.891493    237.656757\n",
       "75%      399.744924    264.131538\n",
       "max     5568.784139  12249.084770"
      ]
     },
     "execution_count": 11,
     "metadata": {},
     "output_type": "execute_result"
    }
   ],
   "source": [
    "df[['turnover_A', 'turnover_B']].describe()"
   ]
  },
  {
   "cell_type": "code",
   "execution_count": 12,
   "id": "a6f98d0c",
   "metadata": {},
   "outputs": [
    {
     "name": "stdout",
     "output_type": "stream",
     "text": [
      "Counts of 'Y' and 'N' for Turnover_A:\n",
      "TARGET       N  Y\n",
      "turnover_A       \n",
      "300.095909   1  0\n",
      "300.117100   1  0\n",
      "300.189020   1  0\n",
      "300.189847   1  0\n",
      "300.199218   1  0\n",
      "...         .. ..\n",
      "2149.771342  1  0\n",
      "2630.436929  1  0\n",
      "2921.246639  1  0\n",
      "3417.423272  1  0\n",
      "5568.784139  1  0\n",
      "\n",
      "[11008 rows x 2 columns]\n",
      "\n",
      "Counts of 'Y' and 'N' for Turnover_B:\n",
      "TARGET        N  Y\n",
      "turnover_B        \n",
      "191.962852    1  0\n",
      "193.458345    0  2\n",
      "199.350446    1  0\n",
      "200.051317    1  0\n",
      "200.070303    1  0\n",
      "...          .. ..\n",
      "7327.877617   1  0\n",
      "8053.741190   1  0\n",
      "8178.368426   1  0\n",
      "9069.134668   1  0\n",
      "12249.084770  1  0\n",
      "\n",
      "[11008 rows x 2 columns]\n"
     ]
    }
   ],
   "source": [
    "# Count of 'Y' and 'N' for Turnover_A\n",
    "count_turnover_A = df.groupby(['turnover_A', 'TARGET']).size().unstack(fill_value=0)\n",
    "\n",
    "# Count of 'Y' and 'N' for Turnover_B\n",
    "count_turnover_B = df.groupby(['turnover_B', 'TARGET']).size().unstack(fill_value=0)\n",
    "\n",
    "# Display the counts\n",
    "print(\"Counts of 'Y' and 'N' for Turnover_A:\")\n",
    "print(count_turnover_A)\n",
    "\n",
    "print(\"\\nCounts of 'Y' and 'N' for Turnover_B:\")\n",
    "print(count_turnover_B)\n"
   ]
  },
  {
   "cell_type": "markdown",
   "id": "a4537f48",
   "metadata": {},
   "source": [
    "It shows the counts of 'Y' and 'N' for 'Turnover_A' and 'Turnover_B' variables. It appears that the counts for 'Y' are very low, and most of the counts are for 'N' (no purchase). This suggests that the majority of customers in the dataset did not make a purchase ('N') in both 'Turnover_A' and 'Turnover_B.'"
   ]
  },
  {
   "cell_type": "code",
   "execution_count": 13,
   "id": "d29a2379",
   "metadata": {},
   "outputs": [
    {
     "data": {
      "image/png": "[encoded data removed]",
      "text/plain": [
       "<Figure size 864x576 with 2 Axes>"
      ]
     },
     "metadata": {
      "needs_background": "light"
     },
     "output_type": "display_data"
    }
   ],
   "source": [
    "# Calculate the correlation matrix\n",
    "correlation_matrix = df.corr()\n",
    "\n",
    "# Create a heatmap\n",
    "plt.figure(figsize=(12, 8))\n",
    "sns.heatmap(correlation_matrix, annot=True, cmap='coolwarm', linewidths=0.5)\n",
    "plt.title(\"Correlation Heatmap\")\n",
    "plt.show()"
   ]
  },
  {
   "cell_type": "markdown",
   "id": "95965a60",
   "metadata": {},
   "source": [
    "# Data Preparation"
   ]
  },
  {
   "cell_type": "markdown",
   "id": "e1c71025",
   "metadata": {},
   "source": [
    "The 'TARGET' variable has values 'Y' and 'N,' which represent the purchase decision. Convert these values into a binary form, typically 0 and 1, to build a logistic regression model."
   ]
  },
  {
   "cell_type": "code",
   "execution_count": 14,
   "id": "8cecc45a",
   "metadata": {},
   "outputs": [],
   "source": [
    "df['TARGET'] = df['TARGET'].map({'Y': 1, 'N': 0})\n"
   ]
  },
  {
   "cell_type": "markdown",
   "id": "8c42f811",
   "metadata": {},
   "source": [
    "Since the 'contract' column has the same value (2) for the entire dataset and doesn't provide any discriminatory information, I might consider dropping this column since it won't contribute to model performance.\n"
   ]
  },
  {
   "cell_type": "code",
   "execution_count": 15,
   "id": "0728e334",
   "metadata": {},
   "outputs": [],
   "source": [
    "#dropping contract and ID column\n",
    "df.drop('contract', axis=1, inplace=True)\n",
    "df.drop('ID', axis=1, inplace=True)\n"
   ]
  },
  {
   "cell_type": "code",
   "execution_count": 16,
   "id": "35d3d0c8",
   "metadata": {},
   "outputs": [],
   "source": [
    "# Remove rows where 'loyalty' is 'Unclassified' (99)\n",
    "df = df[df['loyalty'] != 99]\n",
    "\n",
    "# Perform one-hot encoding for 'loyalty'\n",
    "df = pd.get_dummies(df, columns=['loyalty'], drop_first=True)"
   ]
  },
  {
   "cell_type": "code",
   "execution_count": 17,
   "id": "f5af006e",
   "metadata": {},
   "outputs": [
    {
     "data": {
      "text/html": [
       "<div>\n",
       "<style scoped>\n",
       "    .dataframe tbody tr th:only-of-type {\n",
       "        vertical-align: middle;\n",
       "    }\n",
       "\n",
       "    .dataframe tbody tr th {\n",
       "        vertical-align: top;\n",
       "    }\n",
       "\n",
       "    .dataframe thead th {\n",
       "        text-align: right;\n",
       "    }\n",
       "</style>\n",
       "<table border=\"1\" class=\"dataframe\">\n",
       "  <thead>\n",
       "    <tr style=\"text-align: right;\">\n",
       "      <th></th>\n",
       "      <th>TARGET</th>\n",
       "      <th>age</th>\n",
       "      <th>city</th>\n",
       "      <th>LOR</th>\n",
       "      <th>prod_A</th>\n",
       "      <th>type_A</th>\n",
       "      <th>type_B</th>\n",
       "      <th>prod_B</th>\n",
       "      <th>turnover_A</th>\n",
       "      <th>turnover_B</th>\n",
       "      <th>age_P</th>\n",
       "      <th>lor_M</th>\n",
       "      <th>loyalty_1</th>\n",
       "      <th>loyalty_2</th>\n",
       "      <th>loyalty_3</th>\n",
       "    </tr>\n",
       "  </thead>\n",
       "  <tbody>\n",
       "    <tr>\n",
       "      <th>1</th>\n",
       "      <td>1</td>\n",
       "      <td>45</td>\n",
       "      <td>2</td>\n",
       "      <td>3</td>\n",
       "      <td>1</td>\n",
       "      <td>3</td>\n",
       "      <td>3</td>\n",
       "      <td>1</td>\n",
       "      <td>394.735699</td>\n",
       "      <td>284.904978</td>\n",
       "      <td>45</td>\n",
       "      <td>39</td>\n",
       "      <td>1</td>\n",
       "      <td>0</td>\n",
       "      <td>0</td>\n",
       "    </tr>\n",
       "    <tr>\n",
       "      <th>2</th>\n",
       "      <td>1</td>\n",
       "      <td>42</td>\n",
       "      <td>2</td>\n",
       "      <td>2</td>\n",
       "      <td>1</td>\n",
       "      <td>3</td>\n",
       "      <td>6</td>\n",
       "      <td>1</td>\n",
       "      <td>342.180990</td>\n",
       "      <td>1175.589721</td>\n",
       "      <td>42</td>\n",
       "      <td>27</td>\n",
       "      <td>1</td>\n",
       "      <td>0</td>\n",
       "      <td>0</td>\n",
       "    </tr>\n",
       "    <tr>\n",
       "      <th>5</th>\n",
       "      <td>1</td>\n",
       "      <td>24</td>\n",
       "      <td>2</td>\n",
       "      <td>1</td>\n",
       "      <td>1</td>\n",
       "      <td>3</td>\n",
       "      <td>3</td>\n",
       "      <td>1</td>\n",
       "      <td>460.442339</td>\n",
       "      <td>247.467516</td>\n",
       "      <td>24</td>\n",
       "      <td>15</td>\n",
       "      <td>0</td>\n",
       "      <td>0</td>\n",
       "      <td>1</td>\n",
       "    </tr>\n",
       "    <tr>\n",
       "      <th>10</th>\n",
       "      <td>1</td>\n",
       "      <td>44</td>\n",
       "      <td>2</td>\n",
       "      <td>1</td>\n",
       "      <td>1</td>\n",
       "      <td>3</td>\n",
       "      <td>3</td>\n",
       "      <td>1</td>\n",
       "      <td>466.834730</td>\n",
       "      <td>208.055524</td>\n",
       "      <td>44</td>\n",
       "      <td>15</td>\n",
       "      <td>0</td>\n",
       "      <td>0</td>\n",
       "      <td>1</td>\n",
       "    </tr>\n",
       "    <tr>\n",
       "      <th>11</th>\n",
       "      <td>1</td>\n",
       "      <td>36</td>\n",
       "      <td>2</td>\n",
       "      <td>2</td>\n",
       "      <td>1</td>\n",
       "      <td>3</td>\n",
       "      <td>3</td>\n",
       "      <td>1</td>\n",
       "      <td>373.652449</td>\n",
       "      <td>243.133339</td>\n",
       "      <td>36</td>\n",
       "      <td>27</td>\n",
       "      <td>1</td>\n",
       "      <td>0</td>\n",
       "      <td>0</td>\n",
       "    </tr>\n",
       "  </tbody>\n",
       "</table>\n",
       "</div>"
      ],
      "text/plain": [
       "    TARGET  age  city  LOR  prod_A  type_A  type_B  prod_B  turnover_A  \\\n",
       "1        1   45     2    3       1       3       3       1  394.735699   \n",
       "2        1   42     2    2       1       3       6       1  342.180990   \n",
       "5        1   24     2    1       1       3       3       1  460.442339   \n",
       "10       1   44     2    1       1       3       3       1  466.834730   \n",
       "11       1   36     2    2       1       3       3       1  373.652449   \n",
       "\n",
       "     turnover_B  age_P  lor_M  loyalty_1  loyalty_2  loyalty_3  \n",
       "1    284.904978     45     39          1          0          0  \n",
       "2   1175.589721     42     27          1          0          0  \n",
       "5    247.467516     24     15          0          0          1  \n",
       "10   208.055524     44     15          0          0          1  \n",
       "11   243.133339     36     27          1          0          0  "
      ]
     },
     "execution_count": 17,
     "metadata": {},
     "output_type": "execute_result"
    }
   ],
   "source": [
    "df.head()"
   ]
  },
  {
   "cell_type": "markdown",
   "id": "6eba9b8b",
   "metadata": {},
   "source": [
    "A'turnover_A' and 'turnover_B' columns have values in three-digit numbers while some other columns have values in one digits, it's important to consider feature scaling or standardization to ensure that the model treats all features on a level playing field. Inconsistencies in feature scales can affect the model's performance."
   ]
  },
  {
   "cell_type": "code",
   "execution_count": 18,
   "id": "c125932a",
   "metadata": {},
   "outputs": [],
   "source": [
    "#  feature scaling using the StandardScaler from scikit-learn\n",
    "from sklearn.preprocessing import StandardScaler\n",
    "\n",
    "# Initialize the StandardScaler\n",
    "scaler = StandardScaler()\n",
    "\n",
    "# Scale the relevant columns\n",
    "columns_to_scale = ['turnover_A', 'turnover_B']  \n",
    "df[columns_to_scale] = scaler.fit_transform(df[columns_to_scale])\n"
   ]
  },
  {
   "cell_type": "markdown",
   "id": "6faa886b",
   "metadata": {},
   "source": [
    "'LOR' (Length of Relationship in Years) and 'LOR_m' (Length of Relationship in Months) Columns: Since these columns are represented in different units (years and months), I might consider to standarise them. Standardization is a reasonable choice to make the units consistent"
   ]
  },
  {
   "cell_type": "code",
   "execution_count": 19,
   "id": "95e69096",
   "metadata": {},
   "outputs": [],
   "source": [
    "scaler = StandardScaler()\n",
    "columns_to_scale = ['LOR', 'lor_M']\n",
    "df[columns_to_scale] = scaler.fit_transform(df[columns_to_scale])\n"
   ]
  },
  {
   "cell_type": "code",
   "execution_count": 20,
   "id": "067221b7",
   "metadata": {},
   "outputs": [
    {
     "data": {
      "text/html": [
       "<div>\n",
       "<style scoped>\n",
       "    .dataframe tbody tr th:only-of-type {\n",
       "        vertical-align: middle;\n",
       "    }\n",
       "\n",
       "    .dataframe tbody tr th {\n",
       "        vertical-align: top;\n",
       "    }\n",
       "\n",
       "    .dataframe thead th {\n",
       "        text-align: right;\n",
       "    }\n",
       "</style>\n",
       "<table border=\"1\" class=\"dataframe\">\n",
       "  <thead>\n",
       "    <tr style=\"text-align: right;\">\n",
       "      <th></th>\n",
       "      <th>TARGET</th>\n",
       "      <th>age</th>\n",
       "      <th>city</th>\n",
       "      <th>LOR</th>\n",
       "      <th>prod_A</th>\n",
       "      <th>type_A</th>\n",
       "      <th>type_B</th>\n",
       "      <th>prod_B</th>\n",
       "      <th>turnover_A</th>\n",
       "      <th>turnover_B</th>\n",
       "      <th>age_P</th>\n",
       "      <th>lor_M</th>\n",
       "      <th>loyalty_1</th>\n",
       "      <th>loyalty_2</th>\n",
       "      <th>loyalty_3</th>\n",
       "    </tr>\n",
       "  </thead>\n",
       "  <tbody>\n",
       "    <tr>\n",
       "      <th>1</th>\n",
       "      <td>1</td>\n",
       "      <td>45</td>\n",
       "      <td>2</td>\n",
       "      <td>1.685636</td>\n",
       "      <td>1</td>\n",
       "      <td>3</td>\n",
       "      <td>3</td>\n",
       "      <td>1</td>\n",
       "      <td>0.144976</td>\n",
       "      <td>-0.199006</td>\n",
       "      <td>45</td>\n",
       "      <td>1.685636</td>\n",
       "      <td>1</td>\n",
       "      <td>0</td>\n",
       "      <td>0</td>\n",
       "    </tr>\n",
       "    <tr>\n",
       "      <th>2</th>\n",
       "      <td>1</td>\n",
       "      <td>42</td>\n",
       "      <td>2</td>\n",
       "      <td>0.508170</td>\n",
       "      <td>1</td>\n",
       "      <td>3</td>\n",
       "      <td>6</td>\n",
       "      <td>1</td>\n",
       "      <td>-0.321866</td>\n",
       "      <td>1.154084</td>\n",
       "      <td>42</td>\n",
       "      <td>0.508170</td>\n",
       "      <td>1</td>\n",
       "      <td>0</td>\n",
       "      <td>0</td>\n",
       "    </tr>\n",
       "    <tr>\n",
       "      <th>5</th>\n",
       "      <td>1</td>\n",
       "      <td>24</td>\n",
       "      <td>2</td>\n",
       "      <td>-0.669297</td>\n",
       "      <td>1</td>\n",
       "      <td>3</td>\n",
       "      <td>3</td>\n",
       "      <td>1</td>\n",
       "      <td>0.728647</td>\n",
       "      <td>-0.255879</td>\n",
       "      <td>24</td>\n",
       "      <td>-0.669297</td>\n",
       "      <td>0</td>\n",
       "      <td>0</td>\n",
       "      <td>1</td>\n",
       "    </tr>\n",
       "    <tr>\n",
       "      <th>10</th>\n",
       "      <td>1</td>\n",
       "      <td>44</td>\n",
       "      <td>2</td>\n",
       "      <td>-0.669297</td>\n",
       "      <td>1</td>\n",
       "      <td>3</td>\n",
       "      <td>3</td>\n",
       "      <td>1</td>\n",
       "      <td>0.785430</td>\n",
       "      <td>-0.315752</td>\n",
       "      <td>44</td>\n",
       "      <td>-0.669297</td>\n",
       "      <td>0</td>\n",
       "      <td>0</td>\n",
       "      <td>1</td>\n",
       "    </tr>\n",
       "    <tr>\n",
       "      <th>11</th>\n",
       "      <td>1</td>\n",
       "      <td>36</td>\n",
       "      <td>2</td>\n",
       "      <td>0.508170</td>\n",
       "      <td>1</td>\n",
       "      <td>3</td>\n",
       "      <td>3</td>\n",
       "      <td>1</td>\n",
       "      <td>-0.042306</td>\n",
       "      <td>-0.262463</td>\n",
       "      <td>36</td>\n",
       "      <td>0.508170</td>\n",
       "      <td>1</td>\n",
       "      <td>0</td>\n",
       "      <td>0</td>\n",
       "    </tr>\n",
       "  </tbody>\n",
       "</table>\n",
       "</div>"
      ],
      "text/plain": [
       "    TARGET  age  city       LOR  prod_A  type_A  type_B  prod_B  turnover_A  \\\n",
       "1        1   45     2  1.685636       1       3       3       1    0.144976   \n",
       "2        1   42     2  0.508170       1       3       6       1   -0.321866   \n",
       "5        1   24     2 -0.669297       1       3       3       1    0.728647   \n",
       "10       1   44     2 -0.669297       1       3       3       1    0.785430   \n",
       "11       1   36     2  0.508170       1       3       3       1   -0.042306   \n",
       "\n",
       "    turnover_B  age_P     lor_M  loyalty_1  loyalty_2  loyalty_3  \n",
       "1    -0.199006     45  1.685636          1          0          0  \n",
       "2     1.154084     42  0.508170          1          0          0  \n",
       "5    -0.255879     24 -0.669297          0          0          1  \n",
       "10   -0.315752     44 -0.669297          0          0          1  \n",
       "11   -0.262463     36  0.508170          1          0          0  "
      ]
     },
     "execution_count": 20,
     "metadata": {},
     "output_type": "execute_result"
    }
   ],
   "source": [
    "df.head()"
   ]
  },
  {
   "cell_type": "code",
   "execution_count": 21,
   "id": "3c8646f1",
   "metadata": {},
   "outputs": [
    {
     "data": {
      "text/plain": [
       "array([      2,       5,       4,       1,       7,       6,       9,\n",
       "            11,       8,      14,      15,     116,      12,      13,\n",
       "           111,      10,       3,       0,     114, -999999,     229,\n",
       "           178,     177,     137,     122,      58,      22,     127,\n",
       "            33,     125,     209,      31,      16,     174,     141,\n",
       "           191,     104,     129,      18,      49,      94,     131,\n",
       "           219,     187,      28,      89,     115,      53,     126,\n",
       "            47,      23,      30], dtype=int64)"
      ]
     },
     "execution_count": 21,
     "metadata": {},
     "output_type": "execute_result"
    }
   ],
   "source": [
    "df['city'].unique()\n",
    "\n"
   ]
  },
  {
   "cell_type": "code",
   "execution_count": 22,
   "id": "837b2254",
   "metadata": {},
   "outputs": [],
   "source": [
    "# Calculate the median of the 'City' column excluding -999999\n",
    "median_city = df[df['city'] != -999999]['city'].median()\n",
    "\n",
    "# Replace -999999 with the calculated median\n",
    "df['city'] = df['city'].replace(-999999, median_city)\n"
   ]
  },
  {
   "cell_type": "markdown",
   "id": "5c9f8e9c",
   "metadata": {},
   "source": [
    "### Feature selection"
   ]
  },
  {
   "cell_type": "code",
   "execution_count": 43,
   "id": "c15b47aa",
   "metadata": {},
   "outputs": [
    {
     "name": "stdout",
     "output_type": "stream",
     "text": [
      "Index(['age', 'city', 'LOR', 'prod_A', 'type_A', 'type_B', 'turnover_A',\n",
      "       'turnover_B', 'age_P', 'lor_M', 'loyalty_1', 'loyalty_2', 'loyalty_3'],\n",
      "      dtype='object')\n"
     ]
    }
   ],
   "source": [
    "#using the SelectKBest method with a chi-squared test to select the top 'K' features:\n",
    "\n",
    "from sklearn.feature_selection import SelectKBest\n",
    "from sklearn.feature_selection import chi2\n",
    "\n",
    "# Define the number of top features to select (e.g., 5)\n",
    "k = 13\n",
    "\n",
    "# Apply a transformation to make the data non-negative\n",
    "X = df.drop('TARGET', axis=1)  # Exclude the target variable\n",
    "y = df['TARGET']  # Target variable\n",
    "\n",
    "# Ensure the data is non-negative (add a constant to make it non-negative)\n",
    "min_val = X.min().min()\n",
    "if min_val < 0:\n",
    "    X = X - min_val\n",
    "\n",
    "# Perform feature selection with the chi-squared test\n",
    "selector = SelectKBest(score_func=chi2, k=k)\n",
    "X_new = selector.fit_transform(X, y)\n",
    "\n",
    "# Get the indices of the selected features\n",
    "selected_indices = selector.get_support(indices=True)\n",
    "\n",
    "# Get the names of the selected features\n",
    "selected_features = X.columns[selected_indices]\n",
    "print(selected_features)"
   ]
  },
  {
   "cell_type": "markdown",
   "id": "cfd2bd90",
   "metadata": {},
   "source": [
    "# Prepped Data Review"
   ]
  },
  {
   "cell_type": "code",
   "execution_count": 24,
   "id": "cb72879f",
   "metadata": {},
   "outputs": [
    {
     "name": "stderr",
     "output_type": "stream",
     "text": [
      "C:\\Users\\Pratibha\\anaconda3\\lib\\site-packages\\seaborn\\_decorators.py:36: FutureWarning: Pass the following variable as a keyword arg: x. From version 0.12, the only valid positional argument will be `data`, and passing other arguments without an explicit keyword will result in an error or misinterpretation.\n",
      "  warnings.warn(\n"
     ]
    },
    {
     "data": {
      "image/png": "[encoded data removed]",
      "text/plain": [
       "<Figure size 432x288 with 1 Axes>"
      ]
     },
     "metadata": {
      "needs_background": "light"
     },
     "output_type": "display_data"
    }
   ],
   "source": [
    "# let's re-run some exploratory data analysis on the adjusted dataset:\n",
    "# Re-run class distribution analysis\n",
    "sns.countplot(df['TARGET'])\n",
    "plt.title('Distribution of Target')\n",
    "plt.show()\n"
   ]
  },
  {
   "cell_type": "code",
   "execution_count": 25,
   "id": "0cf88ddb",
   "metadata": {},
   "outputs": [
    {
     "data": {
      "image/png": "[encoded data removed]",
      "text/plain": [
       "<Figure size 576x432 with 1 Axes>"
      ]
     },
     "metadata": {
      "needs_background": "light"
     },
     "output_type": "display_data"
    }
   ],
   "source": [
    "# Re-run age distribution analysis\n",
    "plt.figure(figsize=(8, 6))\n",
    "sns.kdeplot(df[df['TARGET'] == 1]['age'], label='Purchased', shade=True)\n",
    "sns.kdeplot(df[df['TARGET'] == 0]['age'], label='Not Purchased', shade=True)\n",
    "plt.xlabel(\"Age\")\n",
    "plt.ylabel(\"Density\")\n",
    "plt.title(\"Age Distribution by TARGET\")\n",
    "plt.legend()\n",
    "plt.show()"
   ]
  },
  {
   "cell_type": "code",
   "execution_count": 26,
   "id": "d93f8ede",
   "metadata": {},
   "outputs": [
    {
     "data": {
      "image/png": "[encoded data removed]",
      "text/plain": [
       "<Figure size 720x432 with 1 Axes>"
      ]
     },
     "metadata": {
      "needs_background": "light"
     },
     "output_type": "display_data"
    }
   ],
   "source": [
    "# Re-run relationship between 'Turnover_A' and 'TARGET'\n",
    "plt.figure(figsize=(10, 6))\n",
    "sns.boxplot(x='TARGET', y='turnover_A', data=df)\n",
    "plt.title(\"Turnover_A vs. TARGET\")\n",
    "plt.show()"
   ]
  },
  {
   "cell_type": "code",
   "execution_count": 27,
   "id": "9037fcff",
   "metadata": {},
   "outputs": [
    {
     "data": {
      "image/png": "[encoded data removed]",
      "text/plain": [
       "<Figure size 720x432 with 1 Axes>"
      ]
     },
     "metadata": {
      "needs_background": "light"
     },
     "output_type": "display_data"
    }
   ],
   "source": [
    "# Re-run relationship between 'Turnover_B' and 'TARGET'\n",
    "plt.figure(figsize=(10, 6))\n",
    "sns.boxplot(x='TARGET', y='turnover_B', data=df)\n",
    "plt.title(\"Turnover_B vs. TARGET\")\n",
    "plt.show()"
   ]
  },
  {
   "cell_type": "code",
   "execution_count": 28,
   "id": "ce7ed3da",
   "metadata": {},
   "outputs": [
    {
     "data": {
      "image/png": "[encoded data removed]",
      "text/plain": [
       "<Figure size 720x432 with 1 Axes>"
      ]
     },
     "metadata": {
      "needs_background": "light"
     },
     "output_type": "display_data"
    }
   ],
   "source": [
    "# Re-run relationship between 'city' and 'TARGET'\n",
    "plt.figure(figsize=(10, 6))\n",
    "sns.boxplot(x='TARGET', y='city', data=df)\n",
    "plt.title(\"city vs. TARGET\")\n",
    "plt.show()"
   ]
  },
  {
   "cell_type": "markdown",
   "id": "e45569f2",
   "metadata": {},
   "source": [
    "# Regression Modeling "
   ]
  },
  {
   "cell_type": "code",
   "execution_count": 29,
   "id": "449b3945",
   "metadata": {},
   "outputs": [],
   "source": [
    "#Split data\n",
    "from sklearn.model_selection import train_test_split\n",
    "\n",
    "X_train, X_test, y_train, y_test = train_test_split(X_new, y, test_size=0.2, random_state=42)\n"
   ]
  },
  {
   "cell_type": "code",
   "execution_count": 31,
   "id": "f22f89aa",
   "metadata": {},
   "outputs": [],
   "source": [
    "from sklearn.linear_model import LogisticRegression\n",
    "from sklearn import metrics"
   ]
  },
  {
   "cell_type": "markdown",
   "id": "a70e2132",
   "metadata": {},
   "source": [
    "#### Model 1: Using Selected Features\n"
   ]
  },
  {
   "cell_type": "code",
   "execution_count": 36,
   "id": "6eeaa089",
   "metadata": {},
   "outputs": [
    {
     "name": "stdout",
     "output_type": "stream",
     "text": [
      "0.7290184921763869\n",
      "0.6436170212765957\n",
      "0.27816091954022987\n",
      "0.38844301765650074\n"
     ]
    },
    {
     "name": "stderr",
     "output_type": "stream",
     "text": [
      "C:\\Users\\Pratibha\\anaconda3\\lib\\site-packages\\sklearn\\linear_model\\_logistic.py:763: ConvergenceWarning: lbfgs failed to converge (status=1):\n",
      "STOP: TOTAL NO. of ITERATIONS REACHED LIMIT.\n",
      "\n",
      "Increase the number of iterations (max_iter) or scale the data as shown in:\n",
      "    https://scikit-learn.org/stable/modules/preprocessing.html\n",
      "Please also refer to the documentation for alternative solver options:\n",
      "    https://scikit-learn.org/stable/modules/linear_model.html#logistic-regression\n",
      "  n_iter_i = _check_optimize_result(\n"
     ]
    }
   ],
   "source": [
    "# Create and train a logistic regression model using selected features\n",
    "model1 = LogisticRegression()\n",
    "model1.fit(X_train, y_train)\n",
    "\n",
    "# Make predictions on the test set\n",
    "y_pred1 = model1.predict(X_test)\n",
    "\n",
    "# Calculate accuracy and other metrics\n",
    "accuracy1 = metrics.accuracy_score(y_test, y_pred1)\n",
    "precision1 = metrics.precision_score(y_test, y_pred1)\n",
    "recall1 = metrics.recall_score(y_test, y_pred1)\n",
    "f1_score1 = metrics.f1_score(y_test, y_pred1)\n",
    "\n",
    "print(accuracy1)\n",
    "print(precision1)\n",
    "print(recall1)\n",
    "print(f1_score1)"
   ]
  },
  {
   "cell_type": "markdown",
   "id": "f981a047",
   "metadata": {},
   "source": [
    "#### Model 2: Using Different Features\n"
   ]
  },
  {
   "cell_type": "code",
   "execution_count": 37,
   "id": "65393a36",
   "metadata": {},
   "outputs": [
    {
     "name": "stdout",
     "output_type": "stream",
     "text": [
      "0.7162162162162162\n",
      "0.6153846153846154\n",
      "0.2206896551724138\n",
      "0.32487309644670054\n"
     ]
    }
   ],
   "source": [
    "# Define a different set of features or transformations\n",
    "X2 = df[['age', 'turnover_A', 'turnover_B', 'city']]\n",
    "X_train2, X_test2, y_train, y_test = train_test_split(X2, y, test_size=0.2, random_state=42)\n",
    "\n",
    "# Create and train a logistic regression model using the new set of features\n",
    "model2 = LogisticRegression()\n",
    "model2.fit(X_train2, y_train)\n",
    "\n",
    "# Make predictions on the test set\n",
    "y_pred2 = model2.predict(X_test2)\n",
    "\n",
    "# Calculate accuracy and other metrics\n",
    "accuracy2 = metrics.accuracy_score(y_test, y_pred2)\n",
    "precision2 = metrics.precision_score(y_test, y_pred2)\n",
    "recall2 = metrics.recall_score(y_test, y_pred2)\n",
    "f1_score2 = metrics.f1_score(y_test, y_pred2)\n",
    "\n",
    "print(accuracy2)\n",
    "print(precision2)\n",
    "print(recall2)\n",
    "print(f1_score2)\n"
   ]
  },
  {
   "cell_type": "markdown",
   "id": "3404b15a",
   "metadata": {},
   "source": [
    "#### Model 3: Using Scaled Features\n"
   ]
  },
  {
   "cell_type": "code",
   "execution_count": 39,
   "id": "76e8c823",
   "metadata": {},
   "outputs": [
    {
     "name": "stdout",
     "output_type": "stream",
     "text": [
      "0.7240398293029872\n",
      "0.719626168224299\n",
      "0.17701149425287357\n",
      "0.2841328413284133\n"
     ]
    }
   ],
   "source": [
    "# Use the scaled features\n",
    "X3 = df[['turnover_A', 'turnover_B', 'LOR', 'lor_M']]\n",
    "X_train3, X_test3, y_train, y_test = train_test_split(X3, y, test_size=0.2, random_state=42)\n",
    "\n",
    "# Create and train a logistic regression model using the scaled features\n",
    "model3 = LogisticRegression()\n",
    "model3.fit(X_train3, y_train)\n",
    "\n",
    "# Make predictions on the test set\n",
    "y_pred3 = model3.predict(X_test3)\n",
    "\n",
    "# Calculate accuracy and other metrics\n",
    "accuracy3 = metrics.accuracy_score(y_test, y_pred3)\n",
    "precision3 = metrics.precision_score(y_test, y_pred3)\n",
    "recall3 = metrics.recall_score(y_test, y_pred3)\n",
    "f1_score3 = metrics.f1_score(y_test, y_pred3)\n",
    "\n",
    "print(accuracy3)\n",
    "print(precision3)\n",
    "print(recall3)\n",
    "print(f1_score3)"
   ]
  },
  {
   "cell_type": "markdown",
   "id": "00901adc",
   "metadata": {},
   "source": [
    "# Select Models "
   ]
  },
  {
   "cell_type": "markdown",
   "id": "1100e2b3",
   "metadata": {},
   "source": [
    "Model Selection Criteria:\n",
    "\n",
    "Performance Metrics: I will primarily evaluate models based on the following metrics:\n",
    "\n",
    "- Accuracy: To assess overall model correctness.\n",
    "- Precision: To evaluate my ability to correctly identify true positives among the predicted positive cases.\n",
    "- Recall: To measure my ability to capture all true positives among the actual positive cases.\n",
    "- F1-Score: To find a balance between precision and recall.\n",
    "- AUC-ROC: To assess my model's ability to discriminate between positive and negative cases.\n",
    "\n",
    "Model Interpretability: I will consider model interpretability. Simpler models are often easier to explain and understand.\n",
    "\n",
    "Complexity: I'll assess model complexity. Simplicity can be preferred if it doesn't significantly sacrifice performance.\n",
    "\n",
    "Comparison of Models:\n",
    "\n",
    "I have created three different logistic regression models with variations in features. Here's how I can compare these models based on the criteria:\n",
    "\n",
    "- Model 1: Using Selected Features\n",
    "  - Features: Selected features from feature selection.\n",
    "  - Model 1 is expected to balance performance and simplicity.\n",
    "\n",
    "- Model 2: Using Different Features\n",
    "  - Features: Age, turnover_A, turnover_B, city.\n",
    "  - Model 2 is simpler with a small set of features.\n",
    "\n",
    "- Model 3: Using Scaled Features\n",
    "  - Features: Scaled turnover_A, turnover_B, LOR, lor_M.\n",
    "  - Model 3 includes feature scaling for consistency.\n",
    "\n",
    "Model Evaluation:\n",
    "\n",
    "I will now evaluate the performance of each model on a testing subset and discuss the results.\n"
   ]
  },
  {
   "cell_type": "code",
   "execution_count": 40,
   "id": "139f6064",
   "metadata": {},
   "outputs": [
    {
     "name": "stdout",
     "output_type": "stream",
     "text": [
      "Model 1 - Selected Features:\n",
      "Accuracy: 0.7290184921763869\n",
      "Precision: 0.6436170212765957\n",
      "Recall: 0.27816091954022987\n",
      "F1-Score: 0.38844301765650074\n",
      "\n",
      "Model 2 - Different Features:\n",
      "Accuracy: 0.7162162162162162\n",
      "Precision: 0.6153846153846154\n",
      "Recall: 0.2206896551724138\n",
      "F1-Score: 0.32487309644670054\n",
      "\n",
      "Model 3 - Scaled Features:\n",
      "Accuracy: 0.7240398293029872\n",
      "Precision: 0.719626168224299\n",
      "Recall: 0.17701149425287357\n",
      "F1-Score: 0.2841328413284133\n"
     ]
    }
   ],
   "source": [
    "\n",
    "# Evaluate Model 1\n",
    "accuracy1 = metrics.accuracy_score(y_test, y_pred1)\n",
    "precision1 = metrics.precision_score(y_test, y_pred1)\n",
    "recall1 = metrics.recall_score(y_test, y_pred1)\n",
    "f1_score1 = metrics.f1_score(y_test, y_pred1)\n",
    "\n",
    "# Evaluate Model 2\n",
    "accuracy2 = metrics.accuracy_score(y_test, y_pred2)\n",
    "precision2 = metrics.precision_score(y_test, y_pred2)\n",
    "recall2 = metrics.recall_score(y_test, y_pred2)\n",
    "f1_score2 = metrics.f1_score(y_test, y_pred2)\n",
    "\n",
    "# Evaluate Model 3\n",
    "accuracy3 = metrics.accuracy_score(y_test, y_pred3)\n",
    "precision3 = metrics.precision_score(y_test, y_pred3)\n",
    "recall3 = metrics.recall_score(y_test, y_pred3)\n",
    "f1_score3 = metrics.f1_score(y_test, y_pred3)\n",
    "\n",
    "# Display results\n",
    "print(\"Model 1 - Selected Features:\")\n",
    "print(\"Accuracy:\", accuracy1)\n",
    "print(\"Precision:\", precision1)\n",
    "print(\"Recall:\", recall1)\n",
    "print(\"F1-Score:\", f1_score1)\n",
    "\n",
    "print(\"\\nModel 2 - Different Features:\")\n",
    "print(\"Accuracy:\", accuracy2)\n",
    "print(\"Precision:\", precision2)\n",
    "print(\"Recall:\", recall2)\n",
    "print(\"F1-Score:\", f1_score2)\n",
    "\n",
    "print(\"\\nModel 3 - Scaled Features:\")\n",
    "print(\"Accuracy:\", accuracy3)\n",
    "print(\"Precision:\", precision3)\n",
    "print(\"Recall:\", recall3)\n",
    "print(\"F1-Score:\", f1_score3)\n"
   ]
  },
  {
   "cell_type": "markdown",
   "id": "46b4afb3",
   "metadata": {},
   "source": [
    "Based on these results, Model 1 (using selected features) has the highest accuracy and F1-Score among the three models. It also has the highest precision, which means it correctly identifies true positives more often than the other models. However, the recall of Model 1 is relatively low, indicating that it doesn't capture all true positive cases.\n",
    "\n",
    "Model 2 (using different features) is the simplest model but has slightly lower performance across all metrics compared to Model 1.\n",
    "\n",
    "Model 3 (using scaled features) has a good balance between precision and recall but doesn't outperform Model 1 in terms of accuracy and F1-Score.\n"
   ]
  },
  {
   "cell_type": "markdown",
   "id": "dfb43d22",
   "metadata": {},
   "source": [
    "#### Testing Subset Evaluation:\n",
    "\n"
   ]
  },
  {
   "cell_type": "code",
   "execution_count": 42,
   "id": "01db1ade",
   "metadata": {},
   "outputs": [
    {
     "name": "stdout",
     "output_type": "stream",
     "text": [
      "Preferred Model (Model 1) on Testing Subset:\n",
      "Accuracy: 0.7290184921763869\n",
      "Precision: 0.6436170212765957\n",
      "Recall: 0.27816091954022987\n",
      "F1-Score: 0.38844301765650074\n"
     ]
    }
   ],
   "source": [
    "# Apply Model 1 to the testing subset\n",
    "y_pred_test = model1.predict(X_test)\n",
    "\n",
    "# Evaluate Model 1 on the testing subset\n",
    "accuracy_test = metrics.accuracy_score(y_test, y_pred_test)\n",
    "precision_test = metrics.precision_score(y_test, y_pred_test)\n",
    "recall_test = metrics.recall_score(y_test, y_pred_test)\n",
    "f1_score_test = metrics.f1_score(y_test, y_pred_test)\n",
    "\n",
    "# Display results for Model 1 on the testing subset\n",
    "print(\"Preferred Model (Model 1) on Testing Subset:\")\n",
    "print(\"Accuracy:\", accuracy_test)\n",
    "print(\"Precision:\", precision_test)\n",
    "print(\"Recall:\", recall_test)\n",
    "print(\"F1-Score:\", f1_score_test)\n"
   ]
  },
  {
   "cell_type": "markdown",
   "id": "da0f179d",
   "metadata": {},
   "source": [
    "The performance of Model 1 on the testing subset is consistent with the performance on the validation subset, which is a positive outcome.\n",
    "\n",
    "Model 1, based on selected features, is the preferred model, and it performs as expected on the testing subset, maintaining a good balance between accuracy and precision."
   ]
  },
  {
   "cell_type": "markdown",
   "id": "82411bbf",
   "metadata": {},
   "source": [
    "# Conclusions"
   ]
  },
  {
   "cell_type": "markdown",
   "id": "873dc651",
   "metadata": {},
   "source": [
    "In conclusion, my data analysis project has made significant strides in solving the critical issue of predicting customer purchase decisions for additional insurance products. I began by thoroughly exploring the data, uncovering class imbalance challenges in the 'TARGET' variable. Effective data preparation and feature selection were pivotal in building diverse logistic regression models, which were thoroughly evaluated. My ultimate goal is to empower insurance companies with a powerful predictive tool, enabling them to make data-driven decisions that optimize marketing strategies and resource allocation, thus enhancing customer satisfaction and overall business outcomes."
   ]
  },
  {
   "cell_type": "code",
   "execution_count": null,
   "id": "fe238a4a",
   "metadata": {},
   "outputs": [],
   "source": []
  }
 ],
 "metadata": {
  "kernelspec": {
   "display_name": "Python 3 (ipykernel)",
   "language": "python",
   "name": "python3"
  },
  "language_info": {
   "codemirror_mode": {
    "name": "ipython",
    "version": 3
   },
   "file_extension": ".py",
   "mimetype": "text/x-python",
   "name": "python",
   "nbconvert_exporter": "python",
   "pygments_lexer": "ipython3",
   "version": "3.9.7"
  }
 },
 "nbformat": 4,
 "nbformat_minor": 5
}
